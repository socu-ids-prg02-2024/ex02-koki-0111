{
  "cells": [
    {
      "cell_type": "markdown",
      "metadata": {
        "id": "view-in-github",
        "colab_type": "text"
      },
      "source": [
        "<a href=\"https://colab.research.google.com/github/socu-ids-prg02-2024/ex02-koki-0111/blob/main/ex02_01.ipynb\" target=\"_parent\"><img src=\"https://colab.research.google.com/assets/colab-badge.svg\" alt=\"Open In Colab\"/></a>"
      ]
    },
    {
      "cell_type": "markdown",
      "metadata": {
        "id": "x2iJNtaQI2Fb"
      },
      "source": [
        "# 課題1"
      ]
    },
    {
      "cell_type": "markdown",
      "metadata": {
        "id": "2yfQY5A_I2Fc"
      },
      "source": [
        "## Q1\n",
        "\n",
        "中央値はデータの中心傾向を観察するための記述統計の指標です。同じくデータの中心傾向の指標である平均値と比べると、データの外れ値の影響を受けにくという特徴があります。1変数の$n$個のデータを考えた時、中央値を求めるにはまず、データの値の大きさの順に並び替えます。次に、\n",
        "- データの数が奇数個の場合は、大きさの順に並び替えた$\\frac{n+1}{2}$番目の値、\n",
        "- データの数が偶数個の場合は、大きさの順に並び替えた$\\frac{n}{2}$番目と$\\frac{n}{2}+1$の値の平均の値、\n",
        "\n",
        "をそれぞれデータの中央値とします。\n",
        "\n",
        "標本分散はデータのばらつきを観察するための記述統計の指標です。個々のデータがデータ全体の平均からどらぐらいばらついているかを表します。以下の通り、個々のデータの値$x_i$とデータ全体の平均の値$\\bar{x}$の差の2乗和をデータ数$n$で割ったものが分散になります。\n",
        "\n",
        "$\\frac{1}{n}\\sum_{i=1}^n (x_i - \\bar{x})^2$\n",
        "\n",
        "整数のリストを引数で入力として受け取り、以下を要素とする**リスト**を返す avg_med_var() 関数を完成させてください。\n",
        "- 入力リストの全ての要素の標本平均\n",
        "- 入力リストの全ての要素の中央値\n",
        "- 入力リストの全ての要素の標本分散"
      ]
    },
    {
      "cell_type": "code",
      "source": [
        "def avg_med_var(input_list):\n",
        "    mean = sum(input_list) / len(input_list)\n",
        "    sorted_list = sorted(input_list)\n",
        "    n = len(sorted_list)\n",
        "    if n % 2 == 1:\n",
        "        median = sorted_list[n // 2]\n",
        "    else:\n",
        "        median = (sorted_list[(n // 2) - 1] + sorted_list[n // 2]) / 2\n",
        "    variance = sum((x - mean) ** 2 for x in input_list) / (len(input_list) - 1)\n",
        "    return [mean, median, variance]"
      ],
      "metadata": {
        "id": "SGcOJIdGJtVF"
      },
      "execution_count": 7,
      "outputs": []
    },
    {
      "cell_type": "code",
      "source": [
        "assert avg_med_var([1, 2, 3, 4, 5, 6]) == [3.5, 3.5, 3.5]\n",
        "assert avg_med_var([1, 2, 3, 4, 5, 6, 7, 8, 9]) == [5.0, 5, 7.5]"
      ],
      "metadata": {
        "id": "TMyR-VuRKjCz"
      },
      "execution_count": 8,
      "outputs": []
    },
    {
      "cell_type": "code",
      "source": [],
      "metadata": {
        "id": "GGk5lVsCKuUF"
      },
      "execution_count": null,
      "outputs": []
    }
  ],
  "metadata": {
    "kernelspec": {
      "display_name": ".venv",
      "language": "python",
      "name": "python3"
    },
    "language_info": {
      "codemirror_mode": {
        "name": "ipython",
        "version": 3
      },
      "file_extension": ".py",
      "mimetype": "text/x-python",
      "name": "python",
      "nbconvert_exporter": "python",
      "pygments_lexer": "ipython3",
      "version": "3.11.8"
    },
    "colab": {
      "provenance": [],
      "include_colab_link": true
    }
  },
  "nbformat": 4,
  "nbformat_minor": 0
}